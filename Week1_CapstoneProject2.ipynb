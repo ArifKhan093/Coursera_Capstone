{
 "cells": [
  {
   "cell_type": "markdown",
   "metadata": {},
   "source": [
    "# DATA"
   ]
  },
  {
   "cell_type": "markdown",
   "metadata": {},
   "source": [
    "**To complete my final prooject, I will need the following data**\n",
    "\n",
    "***The List of Metro Stations of Mumbai:***\n",
    "    \n",
    "**Source**-https://en.wikipedia.org/wiki/List_of_Mumbai_Metro_stations\n",
    "\n",
    "**Description**- This data set contains the required information. And we will use this data set to find out all the metro stations of Mumbai city.\n",
    "\n",
    "***Restaurants/Cafe near each metro stations of Mumbai:***\n",
    "\n",
    "**Source**-Foursquare API\n",
    "\n",
    "**Description**- By using this api we will get all the cafe/restaurants near metro stations od Mumbai city\n",
    "    \n"
   ]
  },
  {
   "cell_type": "code",
   "execution_count": null,
   "metadata": {},
   "outputs": [],
   "source": []
  }
 ],
 "metadata": {
  "kernelspec": {
   "display_name": "Python 2",
   "language": "python",
   "name": "python2"
  },
  "language_info": {
   "codemirror_mode": {
    "name": "ipython",
    "version": 2
   },
   "file_extension": ".py",
   "mimetype": "text/x-python",
   "name": "python",
   "nbconvert_exporter": "python",
   "pygments_lexer": "ipython2",
   "version": "2.7.16"
  }
 },
 "nbformat": 4,
 "nbformat_minor": 2
}
