{
 "cells": [
  {
   "cell_type": "markdown",
   "metadata": {},
   "source": [
    "# Capstone Project- The Battle Of Neighbourhoods"
   ]
  },
  {
   "cell_type": "markdown",
   "metadata": {},
   "source": [
    " ## Description of Problem"
   ]
  },
  {
   "cell_type": "markdown",
   "metadata": {},
   "source": [
    " Mumbai is the capital city of the Indian state of Maharashtra. According to United Nations, as of 2018, Mumbai is the second most populous city in India after Delhi and the seventh most populous city in the world with a population of 19.98 million.\n",
    "\n",
    "Mumbai is the financial, commercial and entertainment capital of India. It is also one of the world's top ten centres of commerce in terms of global financial flow,generating 6.16% of India's GDP and accounting for 25% of industrial output, 70% of maritime trade in India (Mumbai Port Trust and JNPT),and 70% of capital transactions to India's economy.Mumbai's billionaires had the highest average wealth of any city in the world in 2008. \n",
    "These assets  makes Mumbai one of the best place for doing business.\n",
    "The Mumbai(INDIA) Metro is a rapid transit system serving the city of Mumbai, Maharashtra, and the wider metropolitan region. The system is designed to reduce traffic congestion in the city, and supplement the overcrowded Mumbai Suburban Railway\n",
    "network.\n",
    "\n",
    "Currently there are 12 metro station in Mumbaai, and each one of them provides a great business point of business.\n",
    "So, as a part of my final project we will try to find out near which of the metro station of Mumbai wil it be best to open up a cafe/restaurant.\n",
    "    \n",
    "    "
   ]
  },
  {
   "cell_type": "code",
   "execution_count": null,
   "metadata": {},
   "outputs": [],
   "source": []
  }
 ],
 "metadata": {
  "kernelspec": {
   "display_name": "Python 2",
   "language": "python",
   "name": "python2"
  },
  "language_info": {
   "codemirror_mode": {
    "name": "ipython",
    "version": 2
   },
   "file_extension": ".py",
   "mimetype": "text/x-python",
   "name": "python",
   "nbconvert_exporter": "python",
   "pygments_lexer": "ipython2",
   "version": "2.7.16"
  }
 },
 "nbformat": 4,
 "nbformat_minor": 2
}
